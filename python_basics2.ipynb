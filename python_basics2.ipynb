{
  "nbformat": 4,
  "nbformat_minor": 0,
  "metadata": {
    "colab": {
      "provenance": []
    },
    "kernelspec": {
      "name": "python3",
      "display_name": "Python 3"
    },
    "language_info": {
      "name": "python"
    }
  },
  "cells": [
    {
      "cell_type": "markdown",
      "source": [
        "Write a Python program to accept a string value from the user and display\n",
        "the count of each character in that string"
      ],
      "metadata": {
        "id": "DYODu25kuRre"
      }
    },
    {
      "cell_type": "code",
      "execution_count": null,
      "metadata": {
        "colab": {
          "base_uri": "https://localhost:8080/"
        },
        "id": "9CMiE2okuMGK",
        "outputId": "58c21cb7-7e5f-47ca-f133-f6d5096169f2"
      },
      "outputs": [
        {
          "output_type": "stream",
          "name": "stdout",
          "text": [
            "Enter a string value:assembly\n",
            "Character counts:\n",
            "a: 1\n",
            "s: 2\n",
            "e: 1\n",
            "m: 1\n",
            "b: 1\n",
            "l: 1\n",
            "y: 1\n"
          ]
        }
      ],
      "source": [
        "user_input = input(\"Enter a string value:\")\n",
        "char_counts = {}\n",
        "for char in user_input:\n",
        "    char_counts[char] = char_counts.get(char, 0) +1\n",
        "print(\"Character counts:\")\n",
        "for char, count in char_counts.items():\n",
        "    print(f\"{char}: {count}\")\n"
      ]
    },
    {
      "cell_type": "markdown",
      "source": [
        ". Write a Python function to find the maximum of three numbers"
      ],
      "metadata": {
        "id": "GlAt9CoE6qHm"
      }
    },
    {
      "cell_type": "code",
      "source": [
        "a=int(input('enter the first number:'))\n",
        "b=int(input('enter the second number:'))\n",
        "c=int(input('enter the third number:'))\n",
        "if a>b and b>c:\n",
        "        print(a)\n",
        "elif b>a and b>c:\n",
        "        print(b)\n",
        "else:\n",
        "        print(c)"
      ],
      "metadata": {
        "colab": {
          "base_uri": "https://localhost:8080/"
        },
        "id": "MG2mryVZ6g_1",
        "outputId": "dd42d879-33ff-4204-a47b-00b4e7c27012"
      },
      "execution_count": null,
      "outputs": [
        {
          "output_type": "stream",
          "name": "stdout",
          "text": [
            "enter the first number:34\n",
            "enter the second number:12\n",
            "enter the third number:7\n",
            "34\n"
          ]
        }
      ]
    },
    {
      "cell_type": "markdown",
      "source": [
        " Write a Python function called exponent(base,exp) that returns an\n",
        "integer value of base raises to the power of exp"
      ],
      "metadata": {
        "id": "6Dwv1Yao9VvO"
      }
    },
    {
      "cell_type": "code",
      "source": [
        "def expp(base,exp):\n",
        "  print(base**exp)\n",
        "base=int(input('enter the base:'))\n",
        "exp=int(input('enter the exponent:'))\n",
        "expp(base,exp)"
      ],
      "metadata": {
        "id": "0F-8nhhA6kFo",
        "colab": {
          "base_uri": "https://localhost:8080/"
        },
        "outputId": "a8466d5c-ccdd-4c77-aa7e-9351936910d4"
      },
      "execution_count": null,
      "outputs": [
        {
          "output_type": "stream",
          "name": "stdout",
          "text": [
            "enter the base:2\n",
            "enter the exponent:3\n",
            "8\n"
          ]
        }
      ]
    },
    {
      "cell_type": "markdown",
      "source": [
        "Write a Python function that takes a positive integer and returns the sum\n",
        "of the cube of all the positive integers smaller than the specified number."
      ],
      "metadata": {
        "id": "8cQ1J6yrAbXb"
      }
    },
    {
      "cell_type": "code",
      "source": [
        "def cube(n):\n",
        "  sum=0\n",
        "  for i in range(1,n):\n",
        "    sum += i**3\n",
        "  return sum\n",
        "n=int(input(\"Enter a number:\"))\n",
        "cube(n)"
      ],
      "metadata": {
        "colab": {
          "base_uri": "https://localhost:8080/"
        },
        "id": "8Iq1ZedFAW51",
        "outputId": "d33d247a-e016-45a7-c3d2-dbbe4624e25a"
      },
      "execution_count": null,
      "outputs": [
        {
          "name": "stdout",
          "output_type": "stream",
          "text": [
            "Enter a number:4\n"
          ]
        },
        {
          "output_type": "execute_result",
          "data": {
            "text/plain": [
              "36"
            ]
          },
          "metadata": {},
          "execution_count": 8
        }
      ]
    },
    {
      "cell_type": "markdown",
      "source": [
        "Write a Python program which iterates from 1 to 10. For multiples of 2,\n",
        "print “Fizz” instead of the number and for the multiples of 5, print “Buzz”.\n",
        "For numbers which are multiples of both 2 and 5, print “FizzBuzz”."
      ],
      "metadata": {
        "id": "TdGCFBaRAxjI"
      }
    },
    {
      "cell_type": "code",
      "source": [
        "for i in range(1,11):\n",
        "  if i%2==0 and i%5==0:\n",
        "    print(\" FizzBuzz\",end=\"\")\n",
        "  elif i%2==0:\n",
        "    print(\" Fizz\",end=\"\")\n",
        "  elif i%5==0:\n",
        "    print(\" Buzz\",end=\"\")\n",
        "  else:\n",
        "    print(i, end=\"\")"
      ],
      "metadata": {
        "colab": {
          "base_uri": "https://localhost:8080/"
        },
        "id": "dpUqU5HfAqUu",
        "outputId": "e5684e1b-0b9a-4b1d-c435-3f0c64b4692c"
      },
      "execution_count": null,
      "outputs": [
        {
          "output_type": "stream",
          "name": "stdout",
          "text": [
            "1 Fizz3 Fizz Buzz Fizz7 Fizz9 FizzBuzz"
          ]
        }
      ]
    },
    {
      "cell_type": "markdown",
      "source": [
        "Write a Python program to find the most frequent item in a list of\n",
        "numbers"
      ],
      "metadata": {
        "id": "mDv3us8cCIJd"
      }
    },
    {
      "cell_type": "code",
      "source": [
        "def most_frequent(List):\n",
        "    return max(set(List), key = List.count)\n",
        "\n",
        "List = [2, 3, 4, 2, 5, 2]\n",
        "print(most_frequent(List))"
      ],
      "metadata": {
        "id": "7OP96lAIBwJ6",
        "colab": {
          "base_uri": "https://localhost:8080/"
        },
        "outputId": "948e3e78-adaa-42d0-866f-1b2ac9a47ea1"
      },
      "execution_count": null,
      "outputs": [
        {
          "output_type": "stream",
          "name": "stdout",
          "text": [
            "2\n"
          ]
        }
      ]
    },
    {
      "cell_type": "markdown",
      "source": [
        "Write a Python program to find the sum of squares of the numbers in a\n",
        "list"
      ],
      "metadata": {
        "id": "hOjuiSL_H7cC"
      }
    },
    {
      "cell_type": "code",
      "source": [
        "def listsum(list):\n",
        "  sum=0\n",
        "  for i in list:\n",
        "    sum += i **2\n",
        "  return sum\n",
        "list=[2,1,3,1]\n",
        "listsum(list)"
      ],
      "metadata": {
        "colab": {
          "base_uri": "https://localhost:8080/"
        },
        "id": "zbtTy5l5HvEK",
        "outputId": "5f42a271-a940-4013-8517-07706590a580"
      },
      "execution_count": null,
      "outputs": [
        {
          "output_type": "execute_result",
          "data": {
            "text/plain": [
              "15"
            ]
          },
          "metadata": {},
          "execution_count": 25
        }
      ]
    },
    {
      "cell_type": "markdown",
      "source": [
        " Write a Python program using for loop that will iterate from 1 to 15. For\n",
        "each iteration, check if the current number is odd or even, and display the\n",
        "message to the screen as odd or even."
      ],
      "metadata": {
        "id": "vCWZIIg8IUq2"
      }
    },
    {
      "cell_type": "code",
      "source": [
        "for i in range(1,16):\n",
        "  if i%2==0:\n",
        "    print(i,\"- even\")\n",
        "  else:\n",
        "    print(i,\"- odd\")"
      ],
      "metadata": {
        "id": "1weLw8NsIMCi",
        "colab": {
          "base_uri": "https://localhost:8080/"
        },
        "outputId": "2d07f656-2626-424b-eaa0-e0bd5838ed79"
      },
      "execution_count": 27,
      "outputs": [
        {
          "output_type": "stream",
          "name": "stdout",
          "text": [
            "1 - odd\n",
            "2 - even\n",
            "3 - odd\n",
            "4 - even\n",
            "5 - odd\n",
            "6 - even\n",
            "7 - odd\n",
            "8 - even\n",
            "9 - odd\n",
            "10 - even\n",
            "11 - odd\n",
            "12 - even\n",
            "13 - odd\n",
            "14 - even\n",
            "15 - odd\n"
          ]
        }
      ]
    },
    {
      "cell_type": "markdown",
      "source": [
        "Write a Python program to convert temperatures to and from Celsius\n",
        "Fahrenheit. [Formula: c/5=f-32/9 where c=temperature in Celsius and f=\n",
        "temperature in Fahrenheit.] Sample input: Temperature in Fahrenheit\n",
        "=41"
      ],
      "metadata": {
        "id": "Wo0nhTMKJhkn"
      }
    },
    {
      "cell_type": "code",
      "source": [
        "fahrenheit = float(input(\"Enter temperature in fahrenheit: \"))\n",
        "celsius = (fahrenheit - 32) * 5/9\n",
        "print('%.2f Fahrenheit is: %0.2f Celsius' %(fahrenheit, celsius))"
      ],
      "metadata": {
        "colab": {
          "base_uri": "https://localhost:8080/"
        },
        "id": "0baITEiTJNen",
        "outputId": "62755282-b69f-4709-a52f-f0719c63458f"
      },
      "execution_count": 29,
      "outputs": [
        {
          "output_type": "stream",
          "name": "stdout",
          "text": [
            "Enter temperature in fahrenheit: 41\n",
            "41.00 Fahrenheit is: 5.00 Celsius\n"
          ]
        }
      ]
    },
    {
      "cell_type": "markdown",
      "source": [
        "Write a Python function to calculate the factorial of a number (a\n",
        "nonnegative integer). The function accepts the number as an argument."
      ],
      "metadata": {
        "id": "UJSN4SjXJwQt"
      }
    },
    {
      "cell_type": "code",
      "source": [
        "def fact(n):\n",
        "  if n==0:\n",
        "    return 1\n",
        "  else:\n",
        "    return n * fact(n - 1)\n",
        "n=int(input(\"Enter a number:\"))\n",
        "fact(n)"
      ],
      "metadata": {
        "colab": {
          "base_uri": "https://localhost:8080/"
        },
        "id": "A6LYr1T4J2CZ",
        "outputId": "3c324308-5af2-4b00-85af-7547938f7e21"
      },
      "execution_count": 30,
      "outputs": [
        {
          "name": "stdout",
          "output_type": "stream",
          "text": [
            "Enter a number:3\n"
          ]
        },
        {
          "output_type": "execute_result",
          "data": {
            "text/plain": [
              "6"
            ]
          },
          "metadata": {},
          "execution_count": 30
        }
      ]
    },
    {
      "cell_type": "code",
      "source": [],
      "metadata": {
        "id": "osdjAXRvKS59"
      },
      "execution_count": 30,
      "outputs": []
    }
  ]
}