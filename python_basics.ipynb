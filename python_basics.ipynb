{
  "nbformat": 4,
  "nbformat_minor": 0,
  "metadata": {
    "colab": {
      "provenance": []
    },
    "kernelspec": {
      "name": "python3",
      "display_name": "Python 3"
    },
    "language_info": {
      "name": "python"
    }
  },
  "cells": [
    {
      "cell_type": "markdown",
      "source": [
        "Write a Python program which accepts the radius of a circle from the user\n",
        "and compute the area."
      ],
      "metadata": {
        "id": "pWaxCwihUWDc"
      }
    },
    {
      "cell_type": "code",
      "execution_count": null,
      "metadata": {
        "colab": {
          "base_uri": "https://localhost:8080/"
        },
        "id": "gtceMHmtRzQ_",
        "outputId": "c28ea359-003e-43a2-92e7-a1f7250d319f"
      },
      "outputs": [
        {
          "output_type": "stream",
          "name": "stdout",
          "text": [
            "enter the radius :3\n",
            "area of the circle: 28.26\n"
          ]
        }
      ],
      "source": [
        "radius=int(input('enter the radius :'))\n",
        "radius=3.14*radius**2\n",
        "print('area of the circle:',radius)"
      ]
    },
    {
      "cell_type": "markdown",
      "source": [
        " Write a Python Program to accept the details of a student like name, roll\n",
        "number and mark and display it."
      ],
      "metadata": {
        "id": "2k5JLxwgVrjU"
      }
    },
    {
      "cell_type": "code",
      "source": [
        "name=input(\"enter the name:\")\n",
        "rollnum=int(input(\"enter the roll number:\"))\n",
        "mark=int(input(\"enter the mark:\"))\n",
        "print(name)\n",
        "print(rollnum)\n",
        "print(mark)"
      ],
      "metadata": {
        "colab": {
          "base_uri": "https://localhost:8080/"
        },
        "id": "tN9eB84XVXVY",
        "outputId": "a4dc8f28-4eb1-4762-a425-29fd8abb6e3d"
      },
      "execution_count": null,
      "outputs": [
        {
          "output_type": "stream",
          "name": "stdout",
          "text": [
            "enter the name:anisha\n",
            "enter the roll number:21\n",
            "enter the mark:78\n",
            "anisha\n",
            "21\n",
            "78\n"
          ]
        }
      ]
    },
    {
      "cell_type": "markdown",
      "source": [
        " Write a Python program to get the largest number from a list."
      ],
      "metadata": {
        "id": "4KrKETMFXU6f"
      }
    },
    {
      "cell_type": "code",
      "source": [
        "largestnumber=[12,3,47,10]\n",
        "print(max(largestnumber))"
      ],
      "metadata": {
        "colab": {
          "base_uri": "https://localhost:8080/"
        },
        "id": "tMjoJ1QfWdiu",
        "outputId": "1cf0a3ca-b3d8-44a9-eb10-3c4832064d0e"
      },
      "execution_count": null,
      "outputs": [
        {
          "output_type": "stream",
          "name": "stdout",
          "text": [
            "47\n"
          ]
        }
      ]
    },
    {
      "cell_type": "markdown",
      "source": [
        " Given a range of first 10 numbers, write a Python program to iterate from\n",
        "start number to the end number and print the sum of the current number\n",
        "and previous number.  "
      ],
      "metadata": {
        "id": "I9aGdaXBXyEh"
      }
    },
    {
      "cell_type": "code",
      "source": [
        "previousnum=0\n",
        "for i in range(1,11):\n",
        "  sum=previousnum+i\n",
        "  print(\"current number \",i,\"previous number \",previousnum,\"sum: \",sum)\n",
        "  previousnum=i"
      ],
      "metadata": {
        "id": "K0bpRBKIXsL1",
        "colab": {
          "base_uri": "https://localhost:8080/"
        },
        "outputId": "5f3c034f-734b-4e5b-e035-ba4f00229d90"
      },
      "execution_count": null,
      "outputs": [
        {
          "output_type": "stream",
          "name": "stdout",
          "text": [
            "current number  1 previous number  0 sum:  1\n",
            "current number  2 previous number  1 sum:  3\n",
            "current number  3 previous number  2 sum:  5\n",
            "current number  4 previous number  3 sum:  7\n",
            "current number  5 previous number  4 sum:  9\n",
            "current number  6 previous number  5 sum:  11\n",
            "current number  7 previous number  6 sum:  13\n",
            "current number  8 previous number  7 sum:  15\n",
            "current number  9 previous number  8 sum:  17\n",
            "current number  10 previous number  9 sum:  19\n"
          ]
        }
      ]
    },
    {
      "cell_type": "markdown",
      "source": [
        "Write a Python program to print only those numbers which are divisible\n",
        "of 5."
      ],
      "metadata": {
        "id": "Jq3oBrdrZ5W7"
      }
    },
    {
      "cell_type": "code",
      "source": [
        "num=[10,20,33,46,55]\n",
        "print(\"numbers are:\",num)\n",
        "print(\"divisible by 5\")\n",
        "for i in num:\n",
        "  if i%5==0:\n",
        "    print(i)"
      ],
      "metadata": {
        "colab": {
          "base_uri": "https://localhost:8080/"
        },
        "id": "u6gH2-IiZ3EI",
        "outputId": "9d1725d6-dd38-4b8d-9da4-a877332bc938"
      },
      "execution_count": null,
      "outputs": [
        {
          "output_type": "stream",
          "name": "stdout",
          "text": [
            "numbers are: [10, 20, 33, 46, 55]\n",
            "divisible by 5\n",
            "10\n",
            "20\n",
            "55\n"
          ]
        }
      ]
    },
    {
      "cell_type": "markdown",
      "source": [
        "Write a Python program to print only those numbers which are divisible\n",
        "of 5."
      ],
      "metadata": {
        "id": "8WxThzWla_1S"
      }
    },
    {
      "cell_type": "code",
      "source": [
        "number=int(input('enter the number'))\n",
        "if number>1:\n",
        "  for i in range(2, number):\n",
        "    if number%i==0:\n",
        "      print(number, 'is not the prime')\n",
        "      break\n",
        "  else:\n",
        "    print(number, 'is a prime number')\n",
        "else:\n",
        "  print(number, 'is not prime')\n"
      ],
      "metadata": {
        "id": "-xXQyTgaao3F",
        "colab": {
          "base_uri": "https://localhost:8080/"
        },
        "outputId": "5abc605f-f002-4800-9453-37b4f3d03bd0"
      },
      "execution_count": null,
      "outputs": [
        {
          "output_type": "stream",
          "name": "stdout",
          "text": [
            "enter the number3\n",
            "3 is a prime number\n"
          ]
        }
      ]
    },
    {
      "cell_type": "markdown",
      "source": [
        "Write a Python program to reverse a list using for loop."
      ],
      "metadata": {
        "id": "r7CqDlGrdgCl"
      }
    },
    {
      "cell_type": "code",
      "source": [
        "list=[10,40,30,70]\n",
        "for i in list[::-1]:\n",
        "  print(i)\n"
      ],
      "metadata": {
        "id": "wAnXykeddUSO",
        "colab": {
          "base_uri": "https://localhost:8080/"
        },
        "outputId": "6c67e69b-cd4b-4e3f-f828-4b50cf68173c"
      },
      "execution_count": null,
      "outputs": [
        {
          "output_type": "stream",
          "name": "stdout",
          "text": [
            "70\n",
            "30\n",
            "40\n",
            "10\n"
          ]
        }
      ]
    },
    {
      "cell_type": "markdown",
      "source": [
        "Write a Python program to print the following pattern.  "
      ],
      "metadata": {
        "id": "wwgtG3G-fYbc"
      }
    },
    {
      "cell_type": "code",
      "source": [
        "for i in range(1,6):\n",
        "  for j in range(1,i+1):\n",
        "    print(\"*\",end='')\n",
        "  print()"
      ],
      "metadata": {
        "id": "BUTdaEsyeRi-",
        "colab": {
          "base_uri": "https://localhost:8080/"
        },
        "outputId": "197487bd-da1c-477c-865a-6a2881bb21b4"
      },
      "execution_count": 21,
      "outputs": [
        {
          "output_type": "stream",
          "name": "stdout",
          "text": [
            "*\n",
            "**\n",
            "***\n",
            "****\n",
            "*****\n"
          ]
        }
      ]
    },
    {
      "cell_type": "markdown",
      "source": [
        "Write a Python program to find the maximum of three numbers"
      ],
      "metadata": {
        "id": "zUNWADEBfwhp"
      }
    },
    {
      "cell_type": "code",
      "source": [
        "num=[34,12,7]\n",
        "print(max(num))"
      ],
      "metadata": {
        "colab": {
          "base_uri": "https://localhost:8080/"
        },
        "id": "C7p4SAtJfv2e",
        "outputId": "d7f8346a-00cb-4dbf-c4a9-8c533f5c96f4"
      },
      "execution_count": null,
      "outputs": [
        {
          "output_type": "stream",
          "name": "stdout",
          "text": [
            "34\n"
          ]
        }
      ]
    },
    {
      "cell_type": "markdown",
      "source": [
        " Write a Python program to construct the following pattern, using a\n",
        "nested for loop.  "
      ],
      "metadata": {
        "id": "xvumtUzBgIwd"
      }
    },
    {
      "cell_type": "code",
      "source": [
        "num_rows = 5\n",
        "for i in range(num_rows):\n",
        "    for j in range(i + 1):\n",
        "        print(\"*\", end=\" \")\n",
        "    print()\n",
        "for i in range(num_rows - 1, 0, -1):\n",
        "    for j in range(i):\n",
        "        print(\"*\", end=\" \")\n",
        "    print()\n"
      ],
      "metadata": {
        "colab": {
          "base_uri": "https://localhost:8080/"
        },
        "id": "l5YlyqR0o4wo",
        "outputId": "9b59a8fd-6647-4940-a483-2792e1209427"
      },
      "execution_count": 25,
      "outputs": [
        {
          "output_type": "stream",
          "name": "stdout",
          "text": [
            "* \n",
            "* * \n",
            "* * * \n",
            "* * * * \n",
            "* * * * * \n",
            "* * * * \n",
            "* * * \n",
            "* * \n",
            "* \n"
          ]
        }
      ]
    },
    {
      "cell_type": "code",
      "source": [],
      "metadata": {
        "id": "xOBaTclstdxj"
      },
      "execution_count": null,
      "outputs": []
    }
  ]
}